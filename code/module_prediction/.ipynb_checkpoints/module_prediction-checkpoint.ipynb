{
 "cells": [
  {
   "cell_type": "code",
   "execution_count": 2,
   "id": "8a241e9c",
   "metadata": {},
   "outputs": [],
   "source": [
    "import pandas as pd\n",
    "import numpy as np\n",
    "import pickle\n",
    "import matplotlib.pyplot as plt\n",
    "from sklearn.metrics import roc_auc_score\n",
    "from sklearn.metrics import confusion_matrix\n",
    "from sklearn.metrics import recall_score, precision_score\n",
    "from imblearn.over_sampling import RandomOverSampler\n",
    "from sklearn.model_selection import StratifiedKFold\n",
    "from sklearn.ensemble import RandomForestClassifier\n",
    "from sklearn.metrics import precision_recall_fscore_support\n",
    "from sklearn.model_selection import train_test_split, cross_val_score, GridSearchCV\n",
    "from sklearn.metrics import roc_auc_score\n",
    "from sklearn.ensemble import RandomForestClassifier\n",
    "from sklearn.metrics import precision_recall_curve, roc_curve, confusion_matrix, precision_score, recall_score, f1_score, auc\n",
    "\n",
    "data = pd.read_csv(\"/Users/matan/GitHub/Microbiome_Structure_Madagascar/data/data_processed/ML_module/ML_rattus_three_villages_rare.csv\")\n",
    "data['sex'] = pd.Categorical(data['sex'])\n",
    "data['season'] = pd.Categorical(data['season'])\n",
    "data['grid'] = pd.Categorical(data['grid'])\n",
    "data['module'] = pd.Categorical(data['module'])\n",
    "# Get only the important features that needed to be used in the Prediction model\n",
    "features = ['season','sex','mass','age','richness','grid','month',\n",
    "           'distance','elevation','grid_attr','sm_community']\n",
    "\n",
    "identity = ['host_ID.x', 'host_ID.y']\n",
    "y_value = ['module']\n",
    "\n",
    "\n",
    "def one_hot_encode_dataframe(df):\n",
    "    # Get the list of categorical columns\n",
    "    categorical_columns = df.select_dtypes(include=['object']).columns.tolist()\n",
    "    \n",
    "    # Perform one-hot encoding for each categorical column\n",
    "    one_hot_encoded_df = pd.get_dummies(df, columns=categorical_columns)\n",
    "    \n",
    "    return one_hot_encoded_df\n",
    "\n",
    "def save_evaluation_metrics(y_true, y_pred_proba, output_file):\n",
    "    \"\"\"\n",
    "    Save evaluation metrics (AUC, precision, recall, F1 score, confusion matrix) to a dictionary file.\n",
    "\n",
    "    Parameters:\n",
    "    y_true (array-like): True labels.\n",
    "    y_pred_proba (array-like): Predicted probabilities of the positive class.\n",
    "    output_file (str): File path to save the dictionary.\n",
    "    \"\"\"\n",
    "    # Calculate metrics\n",
    "    precision, recall, _ = precision_recall_curve(y_true, y_pred_proba)\n",
    "    fpr, tpr, _ = roc_curve(y_true, y_pred_proba)\n",
    "    auc_score = auc(fpr, tpr)\n",
    "    y_pred = (y_pred_proba > 0.5).astype(int)\n",
    "    precision_val = precision_score(y_true, y_pred)\n",
    "    recall_val = recall_score(y_true, y_pred)\n",
    "    f1_val = f1_score(y_true, y_pred)\n",
    "    cm = confusion_matrix(y_true, y_pred)\n",
    "    \n",
    "    # Save metrics to dictionary\n",
    "    metrics_dict = {\n",
    "        'AUC': auc_score,\n",
    "        'Precision': precision_val,\n",
    "        'Recall': recall_val,\n",
    "        'F1 Score': f1_val,\n",
    "        'Confusion Matrix': cm\n",
    "    }\n",
    "    \n",
    "    with open(output_file, 'wb') as file:\n",
    "        pickle.dump(metrics_dict, file)\n",
    "\n",
    "def plot_pr_roc_curves(y_true, y_pred_proba, output_prefix):\n",
    "    \"\"\"\n",
    "    Plot Precision-Recall (PR) curve and Receiver Operating Characteristic (ROC) curve and save as PDF.\n",
    "\n",
    "    Parameters:\n",
    "    y_true (array-like): True labels.\n",
    "    y_pred_proba (array-like): Predicted probabilities of the positive class.\n",
    "    output_prefix (str): Prefix for the output PDF files.\n",
    "    \"\"\"\n",
    "    # Plot PR curve\n",
    "    precision, recall, _ = precision_recall_curve(y_true, y_pred_proba)\n",
    "    plt.figure()\n",
    "    plt.plot(recall, precision, marker='.')\n",
    "    plt.xlabel('Recall')\n",
    "    plt.ylabel('Precision')\n",
    "    plt.title('Precision-Recall Curve')\n",
    "    plt.grid(True)\n",
    "    plt.savefig(output_prefix + '_pr_curve.pdf')\n",
    "    plt.close()\n",
    "    \n",
    "    # Plot ROC curve\n",
    "    fpr, tpr, _ = roc_curve(y_true, y_pred_proba)\n",
    "    plt.figure()\n",
    "    plt.plot(fpr, tpr, marker='.')\n",
    "    plt.xlabel('False Positive Rate')\n",
    "    plt.ylabel('True Positive Rate')\n",
    "    plt.title('ROC Curve')\n",
    "    plt.grid(True)\n",
    "    plt.savefig(output_prefix + '_roc_curve.pdf')\n",
    "    plt.close()\n",
    "\n",
    "def random_forest_hyperparameter_tuning(X, y, output_file_prefix, seed = 42):\n",
    "    \"\"\"\n",
    "    Perform hyperparameter tuning for Random Forest classifier using 5-fold cross-validation.\n",
    "    Evaluate the tuned model's performance on a separate test set and calculate AUC score.\n",
    "\n",
    "    Parameters:\n",
    "    X (array-like): Feature matrix.\n",
    "    y (array-like): Target label.\n",
    "    output_file_prefix (str): Prefix for the output files.\n",
    "\n",
    "    Returns:\n",
    "    best_params (dict): Best hyperparameters found during tuning.\n",
    "    \"\"\"\n",
    "    # Split dataset into training and test sets (80% train, 20% test)\n",
    "    X_train, X_test, y_train, y_test = train_test_split(X, y, test_size=0.2, random_state=seed)\n",
    "    \n",
    "    # Define Random Forest classifier\n",
    "    rf_classifier = RandomForestClassifier(random_state=seed)\n",
    "    \n",
    "    # Define hyperparameters grid for tuning\n",
    "    param_grid = {\n",
    "        'n_estimators': [10, 30, 80],\n",
    "        'max_depth': [None, 10, 20],\n",
    "        'min_samples_split': [2, 5, 10],\n",
    "        'min_samples_leaf': [1, 2, 4]\n",
    "    }\n",
    "    param_grid = {\n",
    "        'n_estimators': [80],\n",
    "        'max_depth': [10],\n",
    "        'min_samples_split': [5],\n",
    "        'min_samples_leaf': [1]\n",
    "    }\n",
    "    \n",
    "    # Perform GridSearchCV with 5-fold cross-validation\n",
    "    grid_search = GridSearchCV(estimator=rf_classifier, param_grid=param_grid, \n",
    "                               cv=5, scoring='roc_auc', n_jobs=-1)\n",
    "    grid_search.fit(X_train, y_train)\n",
    "    \n",
    "    # Get best hyperparameters\n",
    "    best_params = grid_search.best_params_\n",
    "    \n",
    "    # Evaluate tuned model on test set\n",
    "    best_rf_model = grid_search.best_estimator_\n",
    "    y_pred_proba = best_rf_model.predict_proba(X_test)[:, 1]  # Probability of positive class\n",
    "    \n",
    "    # Save evaluation metrics\n",
    "    save_evaluation_metrics(y_test, y_pred_proba, output_file_prefix + '_metrics.pkl')\n",
    "    \n",
    "    # Plot PR and ROC curves\n",
    "    plot_pr_roc_curves(y_test, y_pred_proba, output_file_prefix)\n",
    "    \n",
    "    return best_params, grid_search, X_test, y_test, y_pred_proba\n",
    "\n",
    "# Example usage:\n",
    "# Assuming 'X' is your feature matrix and 'y' is your target label\n",
    "# best_params = random_forest_hyperparameter_tuning(X, y, 'output')\n",
    "# print(\"Best hyperparameters:\", best_params)\n"
   ]
  },
  {
   "cell_type": "code",
   "execution_count": 3,
   "id": "024ede83",
   "metadata": {},
   "outputs": [],
   "source": [
    "X = one_hot_encode_dataframe(data[features])\n",
    "y = data['module']\n"
   ]
  },
  {
   "cell_type": "code",
   "execution_count": 4,
   "id": "da76a278",
   "metadata": {},
   "outputs": [
    {
     "name": "stderr",
     "output_type": "stream",
     "text": [
      "/opt/anaconda3/lib/python3.11/site-packages/sklearn/metrics/_classification.py:1344: UndefinedMetricWarning: Precision is ill-defined and being set to 0.0 due to no predicted samples. Use `zero_division` parameter to control this behavior.\n",
      "  _warn_prf(average, modifier, msg_start, len(result))\n"
     ]
    },
    {
     "name": "stdout",
     "output_type": "stream",
     "text": [
      "Best hyperparameters: {'max_depth': 10, 'min_samples_leaf': 1, 'min_samples_split': 5, 'n_estimators': 80}\n"
     ]
    }
   ],
   "source": [
    "# for i in range(10):\n",
    "i=10\n",
    "\n",
    "best_params, grid_search, X_test, y_test, y_pred_proba = random_forest_hyperparameter_tuning(X, y, 'out_{}'.format(i), seed = i)\n",
    "print(\"Best hyperparameters:\", best_params)"
   ]
  },
  {
   "cell_type": "code",
   "execution_count": 5,
   "id": "f72da8d1",
   "metadata": {},
   "outputs": [
    {
     "data": {
      "text/plain": [
       "<Axes: >"
      ]
     },
     "execution_count": 5,
     "metadata": {},
     "output_type": "execute_result"
    },
    {
     "data": {
      "image/png": "[encoded data removed]",
      "text/plain": [
       "<Figure size 640x480 with 1 Axes>"
      ]
     },
     "metadata": {},
     "output_type": "display_data"
    }
   ],
   "source": [
    "best_model = grid_search.best_estimator_#._final_estimator\n",
    "feature_names = best_model.feature_names_in_\n",
    "importance  = best_model.feature_importances_\n",
    "feature_importance = pd.Series(importance, index=feature_names).nlargest(20)\n",
    "feature_importance.plot(kind='barh')"
   ]
  },
  {
   "cell_type": "code",
   "execution_count": 17,
   "id": "67471822",
   "metadata": {},
   "outputs": [],
   "source": [
    "feature_importance.rename_axis('feature').rename('value').to_csv('feature_importance_rare.csv')"
   ]
  },
  {
   "cell_type": "code",
   "execution_count": 18,
   "id": "55c338bf",
   "metadata": {},
   "outputs": [],
   "source": [
    "test_set = pd.concat([X_test.reset_index(drop=False), \n",
    "                      pd.DataFrame(y_test).reset_index(drop=True).rename(columns={'Link':'y_true'}), \n",
    "                      pd.DataFrame(y_pred_proba).rename(columns={0:'y_proba'})], axis=1)\n",
    "test_set.to_csv('test_set_rare.csv')"
   ]
  },
  {
   "cell_type": "code",
   "execution_count": null,
   "id": "3788578e-1d9c-4921-afba-02d4acf7d230",
   "metadata": {},
   "outputs": [],
   "source": []
  }
 ],
 "metadata": {
  "kernelspec": {
   "display_name": "Python 3 (ipykernel)",
   "language": "python",
   "name": "python3"
  },
  "language_info": {
   "codemirror_mode": {
    "name": "ipython",
    "version": 3
   },
   "file_extension": ".py",
   "mimetype": "text/x-python",
   "name": "python",
   "nbconvert_exporter": "python",
   "pygments_lexer": "ipython3",
   "version": "3.11.7"
  }
 },
 "nbformat": 4,
 "nbformat_minor": 5
}
